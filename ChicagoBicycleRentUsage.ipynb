{
 "cells": [
  {
   "cell_type": "code",
   "execution_count": 1,
   "id": "d49b3f17",
   "metadata": {
    "ExecuteTime": {
     "end_time": "2023-10-16T10:29:39.405988Z",
     "start_time": "2023-10-16T10:29:37.183096Z"
    }
   },
   "outputs": [],
   "source": [
    "import pandas as pd\n",
    "import math"
   ]
  },
  {
   "cell_type": "code",
   "execution_count": 2,
   "id": "62a0bbf6",
   "metadata": {
    "ExecuteTime": {
     "end_time": "2023-10-16T10:29:39.632233Z",
     "start_time": "2023-10-16T10:29:39.405988Z"
    }
   },
   "outputs": [],
   "source": [
    "df = pd.read_csv(\"data.csv\")"
   ]
  },
  {
   "cell_type": "code",
   "execution_count": 3,
   "id": "01b2068c",
   "metadata": {
    "ExecuteTime": {
     "end_time": "2023-10-16T10:29:39.679560Z",
     "start_time": "2023-10-16T10:29:39.638234Z"
    }
   },
   "outputs": [
    {
     "data": {
      "text/html": [
       "<div>\n",
       "<style scoped>\n",
       "    .dataframe tbody tr th:only-of-type {\n",
       "        vertical-align: middle;\n",
       "    }\n",
       "\n",
       "    .dataframe tbody tr th {\n",
       "        vertical-align: top;\n",
       "    }\n",
       "\n",
       "    .dataframe thead th {\n",
       "        text-align: right;\n",
       "    }\n",
       "</style>\n",
       "<table border=\"1\" class=\"dataframe\">\n",
       "  <thead>\n",
       "    <tr style=\"text-align: right;\">\n",
       "      <th></th>\n",
       "      <th>ride_id</th>\n",
       "      <th>rideable_type</th>\n",
       "      <th>started_at</th>\n",
       "      <th>ended_at</th>\n",
       "      <th>start_station_name</th>\n",
       "      <th>start_station_id</th>\n",
       "      <th>end_station_name</th>\n",
       "      <th>end_station_id</th>\n",
       "      <th>start_lat</th>\n",
       "      <th>start_lng</th>\n",
       "      <th>end_lat</th>\n",
       "      <th>end_lng</th>\n",
       "      <th>member_casual</th>\n",
       "    </tr>\n",
       "  </thead>\n",
       "  <tbody>\n",
       "    <tr>\n",
       "      <th>0</th>\n",
       "      <td>89E7AA6C29227EFF</td>\n",
       "      <td>classic_bike</td>\n",
       "      <td>2021-02-12 16:14:56</td>\n",
       "      <td>2021-02-12 16:21:43</td>\n",
       "      <td>Glenwood Ave &amp; Touhy Ave</td>\n",
       "      <td>525</td>\n",
       "      <td>Sheridan Rd &amp; Columbia Ave</td>\n",
       "      <td>660</td>\n",
       "      <td>42.012701</td>\n",
       "      <td>-87.666058</td>\n",
       "      <td>42.004583</td>\n",
       "      <td>-87.661406</td>\n",
       "      <td>member</td>\n",
       "    </tr>\n",
       "    <tr>\n",
       "      <th>1</th>\n",
       "      <td>0FEFDE2603568365</td>\n",
       "      <td>classic_bike</td>\n",
       "      <td>2021-02-14 17:52:38</td>\n",
       "      <td>2021-02-14 18:12:09</td>\n",
       "      <td>Glenwood Ave &amp; Touhy Ave</td>\n",
       "      <td>525</td>\n",
       "      <td>Bosworth Ave &amp; Howard St</td>\n",
       "      <td>16806</td>\n",
       "      <td>42.012701</td>\n",
       "      <td>-87.666058</td>\n",
       "      <td>42.019537</td>\n",
       "      <td>-87.669563</td>\n",
       "      <td>casual</td>\n",
       "    </tr>\n",
       "  </tbody>\n",
       "</table>\n",
       "</div>"
      ],
      "text/plain": [
       "            ride_id rideable_type           started_at             ended_at   \n",
       "0  89E7AA6C29227EFF  classic_bike  2021-02-12 16:14:56  2021-02-12 16:21:43  \\\n",
       "1  0FEFDE2603568365  classic_bike  2021-02-14 17:52:38  2021-02-14 18:12:09   \n",
       "\n",
       "         start_station_name start_station_id            end_station_name   \n",
       "0  Glenwood Ave & Touhy Ave              525  Sheridan Rd & Columbia Ave  \\\n",
       "1  Glenwood Ave & Touhy Ave              525    Bosworth Ave & Howard St   \n",
       "\n",
       "  end_station_id  start_lat  start_lng    end_lat    end_lng member_casual  \n",
       "0            660  42.012701 -87.666058  42.004583 -87.661406        member  \n",
       "1          16806  42.012701 -87.666058  42.019537 -87.669563        casual  "
      ]
     },
     "execution_count": 3,
     "metadata": {},
     "output_type": "execute_result"
    }
   ],
   "source": [
    "df.head(2)"
   ]
  },
  {
   "cell_type": "code",
   "execution_count": 4,
   "id": "f2428729",
   "metadata": {
    "ExecuteTime": {
     "end_time": "2023-10-16T10:29:39.717112Z",
     "start_time": "2023-10-16T10:29:39.683353Z"
    }
   },
   "outputs": [
    {
     "name": "stdout",
     "output_type": "stream",
     "text": [
      "<class 'pandas.core.frame.DataFrame'>\n",
      "RangeIndex: 49622 entries, 0 to 49621\n",
      "Data columns (total 13 columns):\n",
      " #   Column              Non-Null Count  Dtype  \n",
      "---  ------              --------------  -----  \n",
      " 0   ride_id             49622 non-null  object \n",
      " 1   rideable_type       49622 non-null  object \n",
      " 2   started_at          49622 non-null  object \n",
      " 3   ended_at            49622 non-null  object \n",
      " 4   start_station_name  45576 non-null  object \n",
      " 5   start_station_id    45576 non-null  object \n",
      " 6   end_station_name    44264 non-null  object \n",
      " 7   end_station_id      44264 non-null  object \n",
      " 8   start_lat           49622 non-null  float64\n",
      " 9   start_lng           49622 non-null  float64\n",
      " 10  end_lat             49408 non-null  float64\n",
      " 11  end_lng             49408 non-null  float64\n",
      " 12  member_casual       49622 non-null  object \n",
      "dtypes: float64(4), object(9)\n",
      "memory usage: 4.9+ MB\n"
     ]
    }
   ],
   "source": [
    "df.info()"
   ]
  },
  {
   "cell_type": "code",
   "execution_count": 5,
   "id": "62901a43",
   "metadata": {
    "ExecuteTime": {
     "end_time": "2023-10-16T10:29:39.821486Z",
     "start_time": "2023-10-16T10:29:39.720071Z"
    }
   },
   "outputs": [],
   "source": [
    "#We need to convert started_at and ended_at columns from object Dtype to datetime type so later we can extract year, month,day... and create datetime dimension table \n",
    "df['started_at'] = pd.to_datetime(df['started_at'])\n",
    "df['ended_at'] = pd.to_datetime(df['ended_at'])"
   ]
  },
  {
   "cell_type": "code",
   "execution_count": 6,
   "id": "74652f2e",
   "metadata": {
    "ExecuteTime": {
     "end_time": "2023-10-16T10:29:39.855059Z",
     "start_time": "2023-10-16T10:29:39.826388Z"
    }
   },
   "outputs": [
    {
     "name": "stdout",
     "output_type": "stream",
     "text": [
      "<class 'pandas.core.frame.DataFrame'>\n",
      "RangeIndex: 49622 entries, 0 to 49621\n",
      "Data columns (total 13 columns):\n",
      " #   Column              Non-Null Count  Dtype         \n",
      "---  ------              --------------  -----         \n",
      " 0   ride_id             49622 non-null  object        \n",
      " 1   rideable_type       49622 non-null  object        \n",
      " 2   started_at          49622 non-null  datetime64[ns]\n",
      " 3   ended_at            49622 non-null  datetime64[ns]\n",
      " 4   start_station_name  45576 non-null  object        \n",
      " 5   start_station_id    45576 non-null  object        \n",
      " 6   end_station_name    44264 non-null  object        \n",
      " 7   end_station_id      44264 non-null  object        \n",
      " 8   start_lat           49622 non-null  float64       \n",
      " 9   start_lng           49622 non-null  float64       \n",
      " 10  end_lat             49408 non-null  float64       \n",
      " 11  end_lng             49408 non-null  float64       \n",
      " 12  member_casual       49622 non-null  object        \n",
      "dtypes: datetime64[ns](2), float64(4), object(7)\n",
      "memory usage: 4.9+ MB\n"
     ]
    }
   ],
   "source": [
    "#now when we check we can see that we sucessfully changed Dtype of these two columns from object to datetime\n",
    "df.info()"
   ]
  },
  {
   "cell_type": "code",
   "execution_count": 7,
   "id": "42187eb4",
   "metadata": {
    "ExecuteTime": {
     "end_time": "2023-10-16T10:29:39.871167Z",
     "start_time": "2023-10-16T10:29:39.858061Z"
    }
   },
   "outputs": [],
   "source": [
    "def haversine_distance(lat1, lon1, lat2, lon2):\n",
    "    # Radius of the Earth in kilometers\n",
    "    R = 6371.0\n",
    "\n",
    "    # Convert latitude and longitude from degrees to radians\n",
    "    lat1 = math.radians(lat1)\n",
    "    lon1 = math.radians(lon1)\n",
    "    lat2 = math.radians(lat2)\n",
    "    lon2 = math.radians(lon2)\n",
    "\n",
    "    # Haversine formula\n",
    "    dlon = lon2 - lon1\n",
    "    dlat = lat2 - lat1\n",
    "    a = math.sin(dlat / 2)**2 + math.cos(lat1) * math.cos(lat2) * math.sin(dlon / 2)**2\n",
    "    c = 2 * math.atan2(math.sqrt(a), math.sqrt(1 - a))\n",
    "    distance = R * c\n",
    "\n",
    "    return distance"
   ]
  },
  {
   "cell_type": "code",
   "execution_count": 8,
   "id": "a3f30c45",
   "metadata": {
    "ExecuteTime": {
     "end_time": "2023-10-16T10:29:40.730354Z",
     "start_time": "2023-10-16T10:29:39.877170Z"
    }
   },
   "outputs": [],
   "source": [
    "df['distance_in_km'] = df.apply(lambda row: haversine_distance(row['start_lat'], row['start_lng'], row['end_lat'], row['end_lng']), axis=1)"
   ]
  },
  {
   "cell_type": "code",
   "execution_count": 9,
   "id": "c1b0018b",
   "metadata": {
    "ExecuteTime": {
     "end_time": "2023-10-16T10:29:40.820570Z",
     "start_time": "2023-10-16T10:29:40.737885Z"
    }
   },
   "outputs": [],
   "source": [
    "df = df.drop_duplicates().reset_index(drop=True)\n",
    "df['rent_id'] = df.index"
   ]
  },
  {
   "cell_type": "markdown",
   "id": "c30a78b3",
   "metadata": {},
   "source": [
    "In the meantime we create data_model schema (saved as jpeg file in repository) and now we need to convert flat file (current dataframe) into star schema"
   ]
  },
  {
   "cell_type": "code",
   "execution_count": 10,
   "id": "650e7438",
   "metadata": {
    "ExecuteTime": {
     "end_time": "2023-10-16T10:29:40.899124Z",
     "start_time": "2023-10-16T10:29:40.823239Z"
    }
   },
   "outputs": [
    {
     "data": {
      "text/html": [
       "<div>\n",
       "<style scoped>\n",
       "    .dataframe tbody tr th:only-of-type {\n",
       "        vertical-align: middle;\n",
       "    }\n",
       "\n",
       "    .dataframe tbody tr th {\n",
       "        vertical-align: top;\n",
       "    }\n",
       "\n",
       "    .dataframe thead th {\n",
       "        text-align: right;\n",
       "    }\n",
       "</style>\n",
       "<table border=\"1\" class=\"dataframe\">\n",
       "  <thead>\n",
       "    <tr style=\"text-align: right;\">\n",
       "      <th></th>\n",
       "      <th>datetime_id</th>\n",
       "      <th>started_at_datetime</th>\n",
       "      <th>started_at_hour</th>\n",
       "      <th>started_at_day</th>\n",
       "      <th>started_at_month</th>\n",
       "      <th>started_at_year</th>\n",
       "      <th>started_at_weekday</th>\n",
       "      <th>ended_at_datetime</th>\n",
       "      <th>ended_at_hour</th>\n",
       "      <th>ended_at_day</th>\n",
       "      <th>ended_at_month</th>\n",
       "      <th>ended_at_year</th>\n",
       "      <th>ended_at_weekday</th>\n",
       "    </tr>\n",
       "  </thead>\n",
       "  <tbody>\n",
       "    <tr>\n",
       "      <th>0</th>\n",
       "      <td>0</td>\n",
       "      <td>2021-02-12 16:14:56</td>\n",
       "      <td>16</td>\n",
       "      <td>12</td>\n",
       "      <td>2</td>\n",
       "      <td>2021</td>\n",
       "      <td>4</td>\n",
       "      <td>2021-02-12 16:21:43</td>\n",
       "      <td>16</td>\n",
       "      <td>12</td>\n",
       "      <td>2</td>\n",
       "      <td>2021</td>\n",
       "      <td>4</td>\n",
       "    </tr>\n",
       "    <tr>\n",
       "      <th>1</th>\n",
       "      <td>1</td>\n",
       "      <td>2021-02-14 17:52:38</td>\n",
       "      <td>17</td>\n",
       "      <td>14</td>\n",
       "      <td>2</td>\n",
       "      <td>2021</td>\n",
       "      <td>6</td>\n",
       "      <td>2021-02-14 18:12:09</td>\n",
       "      <td>18</td>\n",
       "      <td>14</td>\n",
       "      <td>2</td>\n",
       "      <td>2021</td>\n",
       "      <td>6</td>\n",
       "    </tr>\n",
       "    <tr>\n",
       "      <th>2</th>\n",
       "      <td>2</td>\n",
       "      <td>2021-02-09 19:10:18</td>\n",
       "      <td>19</td>\n",
       "      <td>9</td>\n",
       "      <td>2</td>\n",
       "      <td>2021</td>\n",
       "      <td>1</td>\n",
       "      <td>2021-02-09 19:19:10</td>\n",
       "      <td>19</td>\n",
       "      <td>9</td>\n",
       "      <td>2</td>\n",
       "      <td>2021</td>\n",
       "      <td>1</td>\n",
       "    </tr>\n",
       "    <tr>\n",
       "      <th>3</th>\n",
       "      <td>3</td>\n",
       "      <td>2021-02-02 17:49:41</td>\n",
       "      <td>17</td>\n",
       "      <td>2</td>\n",
       "      <td>2</td>\n",
       "      <td>2021</td>\n",
       "      <td>1</td>\n",
       "      <td>2021-02-02 17:54:06</td>\n",
       "      <td>17</td>\n",
       "      <td>2</td>\n",
       "      <td>2</td>\n",
       "      <td>2021</td>\n",
       "      <td>1</td>\n",
       "    </tr>\n",
       "    <tr>\n",
       "      <th>4</th>\n",
       "      <td>4</td>\n",
       "      <td>2021-02-23 15:07:23</td>\n",
       "      <td>15</td>\n",
       "      <td>23</td>\n",
       "      <td>2</td>\n",
       "      <td>2021</td>\n",
       "      <td>1</td>\n",
       "      <td>2021-02-23 15:22:37</td>\n",
       "      <td>15</td>\n",
       "      <td>23</td>\n",
       "      <td>2</td>\n",
       "      <td>2021</td>\n",
       "      <td>1</td>\n",
       "    </tr>\n",
       "  </tbody>\n",
       "</table>\n",
       "</div>"
      ],
      "text/plain": [
       "   datetime_id started_at_datetime  started_at_hour  started_at_day   \n",
       "0            0 2021-02-12 16:14:56               16              12  \\\n",
       "1            1 2021-02-14 17:52:38               17              14   \n",
       "2            2 2021-02-09 19:10:18               19               9   \n",
       "3            3 2021-02-02 17:49:41               17               2   \n",
       "4            4 2021-02-23 15:07:23               15              23   \n",
       "\n",
       "   started_at_month  started_at_year  started_at_weekday   ended_at_datetime   \n",
       "0                 2             2021                   4 2021-02-12 16:21:43  \\\n",
       "1                 2             2021                   6 2021-02-14 18:12:09   \n",
       "2                 2             2021                   1 2021-02-09 19:19:10   \n",
       "3                 2             2021                   1 2021-02-02 17:54:06   \n",
       "4                 2             2021                   1 2021-02-23 15:22:37   \n",
       "\n",
       "   ended_at_hour  ended_at_day  ended_at_month  ended_at_year   \n",
       "0             16            12               2           2021  \\\n",
       "1             18            14               2           2021   \n",
       "2             19             9               2           2021   \n",
       "3             17             2               2           2021   \n",
       "4             15            23               2           2021   \n",
       "\n",
       "   ended_at_weekday  \n",
       "0                 4  \n",
       "1                 6  \n",
       "2                 1  \n",
       "3                 1  \n",
       "4                 1  "
      ]
     },
     "execution_count": 10,
     "metadata": {},
     "output_type": "execute_result"
    }
   ],
   "source": [
    "datetime_dim = df[['started_at', 'ended_at']].reset_index(drop=True)\n",
    "datetime_dim['started_at_datetime'] = datetime_dim['started_at']\n",
    "datetime_dim['started_at_hour'] = datetime_dim['started_at_datetime'].dt.hour\n",
    "datetime_dim['started_at_day'] = datetime_dim['started_at_datetime'].dt.day\n",
    "datetime_dim['started_at_month'] = datetime_dim['started_at_datetime'].dt.month\n",
    "datetime_dim['started_at_year'] = datetime_dim['started_at_datetime'].dt.year\n",
    "datetime_dim['started_at_weekday'] = datetime_dim['started_at_datetime'].dt.weekday\n",
    "\n",
    "datetime_dim['ended_at_datetime'] = datetime_dim['ended_at']\n",
    "datetime_dim['ended_at_hour'] = datetime_dim['ended_at_datetime'].dt.hour\n",
    "datetime_dim['ended_at_day'] = datetime_dim['ended_at_datetime'].dt.day\n",
    "datetime_dim['ended_at_month'] = datetime_dim['ended_at_datetime'].dt.month\n",
    "datetime_dim['ended_at_year'] = datetime_dim['ended_at_datetime'].dt.year\n",
    "datetime_dim['ended_at_weekday'] = datetime_dim['ended_at_datetime'].dt.weekday\n",
    "\n",
    "datetime_dim['datetime_id'] = datetime_dim.index\n",
    "\n",
    "datetime_dim = datetime_dim[['datetime_id','started_at_datetime','started_at_hour','started_at_day',\n",
    "                            'started_at_month','started_at_year','started_at_weekday','ended_at_datetime',\n",
    "                            'ended_at_hour','ended_at_day','ended_at_month','ended_at_year','ended_at_weekday']]\n",
    "\n",
    "datetime_dim.head()\n"
   ]
  },
  {
   "cell_type": "code",
   "execution_count": 11,
   "id": "7b573f8f",
   "metadata": {
    "ExecuteTime": {
     "end_time": "2023-10-16T10:29:40.935310Z",
     "start_time": "2023-10-16T10:29:40.903125Z"
    }
   },
   "outputs": [
    {
     "data": {
      "text/html": [
       "<div>\n",
       "<style scoped>\n",
       "    .dataframe tbody tr th:only-of-type {\n",
       "        vertical-align: middle;\n",
       "    }\n",
       "\n",
       "    .dataframe tbody tr th {\n",
       "        vertical-align: top;\n",
       "    }\n",
       "\n",
       "    .dataframe thead th {\n",
       "        text-align: right;\n",
       "    }\n",
       "</style>\n",
       "<table border=\"1\" class=\"dataframe\">\n",
       "  <thead>\n",
       "    <tr style=\"text-align: right;\">\n",
       "      <th></th>\n",
       "      <th>ride_index</th>\n",
       "      <th>ride_id</th>\n",
       "      <th>rideable_type</th>\n",
       "    </tr>\n",
       "  </thead>\n",
       "  <tbody>\n",
       "    <tr>\n",
       "      <th>0</th>\n",
       "      <td>0</td>\n",
       "      <td>89E7AA6C29227EFF</td>\n",
       "      <td>classic_bike</td>\n",
       "    </tr>\n",
       "    <tr>\n",
       "      <th>1</th>\n",
       "      <td>1</td>\n",
       "      <td>0FEFDE2603568365</td>\n",
       "      <td>classic_bike</td>\n",
       "    </tr>\n",
       "    <tr>\n",
       "      <th>2</th>\n",
       "      <td>2</td>\n",
       "      <td>E6159D746B2DBB91</td>\n",
       "      <td>electric_bike</td>\n",
       "    </tr>\n",
       "    <tr>\n",
       "      <th>3</th>\n",
       "      <td>3</td>\n",
       "      <td>B32D3199F1C2E75B</td>\n",
       "      <td>classic_bike</td>\n",
       "    </tr>\n",
       "    <tr>\n",
       "      <th>4</th>\n",
       "      <td>4</td>\n",
       "      <td>83E463F23575F4BF</td>\n",
       "      <td>electric_bike</td>\n",
       "    </tr>\n",
       "  </tbody>\n",
       "</table>\n",
       "</div>"
      ],
      "text/plain": [
       "   ride_index           ride_id  rideable_type\n",
       "0           0  89E7AA6C29227EFF   classic_bike\n",
       "1           1  0FEFDE2603568365   classic_bike\n",
       "2           2  E6159D746B2DBB91  electric_bike\n",
       "3           3  B32D3199F1C2E75B   classic_bike\n",
       "4           4  83E463F23575F4BF  electric_bike"
      ]
     },
     "execution_count": 11,
     "metadata": {},
     "output_type": "execute_result"
    }
   ],
   "source": [
    "ride_dim = df[['ride_id', 'rideable_type']].reset_index(drop=True)\n",
    "ride_dim['ride_index'] = ride_dim.index\n",
    "ride_dim = ride_dim[['ride_index','ride_id', 'rideable_type']]\n",
    "\n",
    "ride_dim.head()"
   ]
  },
  {
   "cell_type": "code",
   "execution_count": 12,
   "id": "4ce333b9",
   "metadata": {
    "ExecuteTime": {
     "end_time": "2023-10-16T10:29:40.967735Z",
     "start_time": "2023-10-16T10:29:40.941436Z"
    }
   },
   "outputs": [
    {
     "data": {
      "text/html": [
       "<div>\n",
       "<style scoped>\n",
       "    .dataframe tbody tr th:only-of-type {\n",
       "        vertical-align: middle;\n",
       "    }\n",
       "\n",
       "    .dataframe tbody tr th {\n",
       "        vertical-align: top;\n",
       "    }\n",
       "\n",
       "    .dataframe thead th {\n",
       "        text-align: right;\n",
       "    }\n",
       "</style>\n",
       "<table border=\"1\" class=\"dataframe\">\n",
       "  <thead>\n",
       "    <tr style=\"text-align: right;\">\n",
       "      <th></th>\n",
       "      <th>start_station_index</th>\n",
       "      <th>start_station_id</th>\n",
       "      <th>start_station_name</th>\n",
       "      <th>start_lat</th>\n",
       "      <th>start_lng</th>\n",
       "    </tr>\n",
       "  </thead>\n",
       "  <tbody>\n",
       "    <tr>\n",
       "      <th>0</th>\n",
       "      <td>0</td>\n",
       "      <td>525</td>\n",
       "      <td>Glenwood Ave &amp; Touhy Ave</td>\n",
       "      <td>42.012701</td>\n",
       "      <td>-87.666058</td>\n",
       "    </tr>\n",
       "    <tr>\n",
       "      <th>1</th>\n",
       "      <td>1</td>\n",
       "      <td>525</td>\n",
       "      <td>Glenwood Ave &amp; Touhy Ave</td>\n",
       "      <td>42.012701</td>\n",
       "      <td>-87.666058</td>\n",
       "    </tr>\n",
       "    <tr>\n",
       "      <th>2</th>\n",
       "      <td>2</td>\n",
       "      <td>KA1503000012</td>\n",
       "      <td>Clark St &amp; Lake St</td>\n",
       "      <td>41.885795</td>\n",
       "      <td>-87.631101</td>\n",
       "    </tr>\n",
       "    <tr>\n",
       "      <th>3</th>\n",
       "      <td>3</td>\n",
       "      <td>637</td>\n",
       "      <td>Wood St &amp; Chicago Ave</td>\n",
       "      <td>41.895634</td>\n",
       "      <td>-87.672069</td>\n",
       "    </tr>\n",
       "    <tr>\n",
       "      <th>4</th>\n",
       "      <td>4</td>\n",
       "      <td>13216</td>\n",
       "      <td>State St &amp; 33rd St</td>\n",
       "      <td>41.834733</td>\n",
       "      <td>-87.625827</td>\n",
       "    </tr>\n",
       "  </tbody>\n",
       "</table>\n",
       "</div>"
      ],
      "text/plain": [
       "   start_station_index start_station_id        start_station_name  start_lat   \n",
       "0                    0              525  Glenwood Ave & Touhy Ave  42.012701  \\\n",
       "1                    1              525  Glenwood Ave & Touhy Ave  42.012701   \n",
       "2                    2     KA1503000012        Clark St & Lake St  41.885795   \n",
       "3                    3              637     Wood St & Chicago Ave  41.895634   \n",
       "4                    4            13216        State St & 33rd St  41.834733   \n",
       "\n",
       "   start_lng  \n",
       "0 -87.666058  \n",
       "1 -87.666058  \n",
       "2 -87.631101  \n",
       "3 -87.672069  \n",
       "4 -87.625827  "
      ]
     },
     "execution_count": 12,
     "metadata": {},
     "output_type": "execute_result"
    }
   ],
   "source": [
    "start_station_dim = df[['start_station_id','start_station_name','start_lat','start_lng']].reset_index(drop=True)\n",
    "start_station_dim['start_station_index'] = start_station_dim.index\n",
    "start_station_dim = start_station_dim[['start_station_index','start_station_id','start_station_name','start_lat','start_lng']]\n",
    "start_station_dim.head()"
   ]
  },
  {
   "cell_type": "code",
   "execution_count": 13,
   "id": "7a2f4d6d",
   "metadata": {
    "ExecuteTime": {
     "end_time": "2023-10-16T10:29:41.003977Z",
     "start_time": "2023-10-16T10:29:40.972734Z"
    }
   },
   "outputs": [
    {
     "data": {
      "text/html": [
       "<div>\n",
       "<style scoped>\n",
       "    .dataframe tbody tr th:only-of-type {\n",
       "        vertical-align: middle;\n",
       "    }\n",
       "\n",
       "    .dataframe tbody tr th {\n",
       "        vertical-align: top;\n",
       "    }\n",
       "\n",
       "    .dataframe thead th {\n",
       "        text-align: right;\n",
       "    }\n",
       "</style>\n",
       "<table border=\"1\" class=\"dataframe\">\n",
       "  <thead>\n",
       "    <tr style=\"text-align: right;\">\n",
       "      <th></th>\n",
       "      <th>end_station_index</th>\n",
       "      <th>end_station_id</th>\n",
       "      <th>end_station_name</th>\n",
       "      <th>end_lat</th>\n",
       "      <th>end_lng</th>\n",
       "    </tr>\n",
       "  </thead>\n",
       "  <tbody>\n",
       "    <tr>\n",
       "      <th>0</th>\n",
       "      <td>0</td>\n",
       "      <td>660</td>\n",
       "      <td>Sheridan Rd &amp; Columbia Ave</td>\n",
       "      <td>42.004583</td>\n",
       "      <td>-87.661406</td>\n",
       "    </tr>\n",
       "    <tr>\n",
       "      <th>1</th>\n",
       "      <td>1</td>\n",
       "      <td>16806</td>\n",
       "      <td>Bosworth Ave &amp; Howard St</td>\n",
       "      <td>42.019537</td>\n",
       "      <td>-87.669563</td>\n",
       "    </tr>\n",
       "    <tr>\n",
       "      <th>2</th>\n",
       "      <td>2</td>\n",
       "      <td>TA1305000029</td>\n",
       "      <td>State St &amp; Randolph St</td>\n",
       "      <td>41.884866</td>\n",
       "      <td>-87.627498</td>\n",
       "    </tr>\n",
       "    <tr>\n",
       "      <th>3</th>\n",
       "      <td>3</td>\n",
       "      <td>TA1305000034</td>\n",
       "      <td>Honore St &amp; Division St</td>\n",
       "      <td>41.903119</td>\n",
       "      <td>-87.673935</td>\n",
       "    </tr>\n",
       "    <tr>\n",
       "      <th>4</th>\n",
       "      <td>4</td>\n",
       "      <td>TA1309000055</td>\n",
       "      <td>Emerald Ave &amp; 31st St</td>\n",
       "      <td>41.838163</td>\n",
       "      <td>-87.645123</td>\n",
       "    </tr>\n",
       "  </tbody>\n",
       "</table>\n",
       "</div>"
      ],
      "text/plain": [
       "   end_station_index end_station_id            end_station_name    end_lat   \n",
       "0                  0            660  Sheridan Rd & Columbia Ave  42.004583  \\\n",
       "1                  1          16806    Bosworth Ave & Howard St  42.019537   \n",
       "2                  2   TA1305000029      State St & Randolph St  41.884866   \n",
       "3                  3   TA1305000034     Honore St & Division St  41.903119   \n",
       "4                  4   TA1309000055       Emerald Ave & 31st St  41.838163   \n",
       "\n",
       "     end_lng  \n",
       "0 -87.661406  \n",
       "1 -87.669563  \n",
       "2 -87.627498  \n",
       "3 -87.673935  \n",
       "4 -87.645123  "
      ]
     },
     "execution_count": 13,
     "metadata": {},
     "output_type": "execute_result"
    }
   ],
   "source": [
    "end_station_dim = df[['end_station_id','end_station_name','end_lat','end_lng']].reset_index(drop=True)\n",
    "end_station_dim['end_station_index'] = end_station_dim.index\n",
    "end_station_dim = end_station_dim[['end_station_index','end_station_id','end_station_name','end_lat','end_lng']]\n",
    "end_station_dim.head()"
   ]
  },
  {
   "cell_type": "code",
   "execution_count": 14,
   "id": "8ce252a8",
   "metadata": {
    "ExecuteTime": {
     "end_time": "2023-10-16T10:29:41.100511Z",
     "start_time": "2023-10-16T10:29:41.008187Z"
    }
   },
   "outputs": [],
   "source": [
    "fact_table = df.merge(datetime_dim,left_on='rent_id',right_on='datetime_id')\\\n",
    ".merge(ride_dim,left_on='rent_id',right_on='ride_index')\\\n",
    ".merge(start_station_dim,left_on='rent_id',right_on='start_station_index')\\\n",
    ".merge(end_station_dim,left_on='rent_id',right_on='end_station_index')\\\n",
    "[['member_casual','datetime_id','ride_index','start_station_index','end_station_index', 'distance_in_km']]"
   ]
  },
  {
   "cell_type": "code",
   "execution_count": 15,
   "id": "72328661",
   "metadata": {
    "ExecuteTime": {
     "end_time": "2023-10-16T10:29:41.131753Z",
     "start_time": "2023-10-16T10:29:41.103753Z"
    }
   },
   "outputs": [
    {
     "data": {
      "text/html": [
       "<div>\n",
       "<style scoped>\n",
       "    .dataframe tbody tr th:only-of-type {\n",
       "        vertical-align: middle;\n",
       "    }\n",
       "\n",
       "    .dataframe tbody tr th {\n",
       "        vertical-align: top;\n",
       "    }\n",
       "\n",
       "    .dataframe thead th {\n",
       "        text-align: right;\n",
       "    }\n",
       "</style>\n",
       "<table border=\"1\" class=\"dataframe\">\n",
       "  <thead>\n",
       "    <tr style=\"text-align: right;\">\n",
       "      <th></th>\n",
       "      <th>member_casual</th>\n",
       "      <th>datetime_id</th>\n",
       "      <th>ride_index</th>\n",
       "      <th>start_station_index</th>\n",
       "      <th>end_station_index</th>\n",
       "      <th>distance_in_km</th>\n",
       "    </tr>\n",
       "  </thead>\n",
       "  <tbody>\n",
       "    <tr>\n",
       "      <th>0</th>\n",
       "      <td>member</td>\n",
       "      <td>0</td>\n",
       "      <td>0</td>\n",
       "      <td>0</td>\n",
       "      <td>0</td>\n",
       "      <td>0.981104</td>\n",
       "    </tr>\n",
       "    <tr>\n",
       "      <th>1</th>\n",
       "      <td>casual</td>\n",
       "      <td>1</td>\n",
       "      <td>1</td>\n",
       "      <td>1</td>\n",
       "      <td>1</td>\n",
       "      <td>0.813412</td>\n",
       "    </tr>\n",
       "    <tr>\n",
       "      <th>2</th>\n",
       "      <td>member</td>\n",
       "      <td>2</td>\n",
       "      <td>2</td>\n",
       "      <td>2</td>\n",
       "      <td>2</td>\n",
       "      <td>0.315636</td>\n",
       "    </tr>\n",
       "    <tr>\n",
       "      <th>3</th>\n",
       "      <td>member</td>\n",
       "      <td>3</td>\n",
       "      <td>3</td>\n",
       "      <td>3</td>\n",
       "      <td>3</td>\n",
       "      <td>0.846501</td>\n",
       "    </tr>\n",
       "    <tr>\n",
       "      <th>4</th>\n",
       "      <td>member</td>\n",
       "      <td>4</td>\n",
       "      <td>4</td>\n",
       "      <td>4</td>\n",
       "      <td>4</td>\n",
       "      <td>1.643460</td>\n",
       "    </tr>\n",
       "  </tbody>\n",
       "</table>\n",
       "</div>"
      ],
      "text/plain": [
       "  member_casual  datetime_id  ride_index  start_station_index   \n",
       "0        member            0           0                    0  \\\n",
       "1        casual            1           1                    1   \n",
       "2        member            2           2                    2   \n",
       "3        member            3           3                    3   \n",
       "4        member            4           4                    4   \n",
       "\n",
       "   end_station_index  distance_in_km  \n",
       "0                  0        0.981104  \n",
       "1                  1        0.813412  \n",
       "2                  2        0.315636  \n",
       "3                  3        0.846501  \n",
       "4                  4        1.643460  "
      ]
     },
     "execution_count": 15,
     "metadata": {},
     "output_type": "execute_result"
    }
   ],
   "source": [
    "fact_table.head()"
   ]
  },
  {
   "cell_type": "code",
   "execution_count": 16,
   "id": "dfc1686a",
   "metadata": {
    "ExecuteTime": {
     "end_time": "2023-10-16T10:29:41.168439Z",
     "start_time": "2023-10-16T10:29:41.134755Z"
    }
   },
   "outputs": [
    {
     "name": "stdout",
     "output_type": "stream",
     "text": [
      "<class 'pandas.core.frame.DataFrame'>\n",
      "RangeIndex: 49622 entries, 0 to 49621\n",
      "Data columns (total 6 columns):\n",
      " #   Column               Non-Null Count  Dtype  \n",
      "---  ------               --------------  -----  \n",
      " 0   member_casual        49622 non-null  object \n",
      " 1   datetime_id          49622 non-null  int64  \n",
      " 2   ride_index           49622 non-null  int64  \n",
      " 3   start_station_index  49622 non-null  int64  \n",
      " 4   end_station_index    49622 non-null  int64  \n",
      " 5   distance_in_km       49408 non-null  float64\n",
      "dtypes: float64(1), int64(4), object(1)\n",
      "memory usage: 2.3+ MB\n"
     ]
    }
   ],
   "source": [
    "fact_table.info()"
   ]
  },
  {
   "cell_type": "code",
   "execution_count": null,
   "id": "15554478",
   "metadata": {},
   "outputs": [],
   "source": []
  }
 ],
 "metadata": {
  "kernelspec": {
   "display_name": "tfod",
   "language": "python",
   "name": "tfod"
  },
  "language_info": {
   "codemirror_mode": {
    "name": "ipython",
    "version": 3
   },
   "file_extension": ".py",
   "mimetype": "text/x-python",
   "name": "python",
   "nbconvert_exporter": "python",
   "pygments_lexer": "ipython3",
   "version": "3.9.5"
  },
  "varInspector": {
   "cols": {
    "lenName": 16,
    "lenType": 16,
    "lenVar": 40
   },
   "kernels_config": {
    "python": {
     "delete_cmd_postfix": "",
     "delete_cmd_prefix": "del ",
     "library": "var_list.py",
     "varRefreshCmd": "print(var_dic_list())"
    },
    "r": {
     "delete_cmd_postfix": ") ",
     "delete_cmd_prefix": "rm(",
     "library": "var_list.r",
     "varRefreshCmd": "cat(var_dic_list()) "
    }
   },
   "types_to_exclude": [
    "module",
    "function",
    "builtin_function_or_method",
    "instance",
    "_Feature"
   ],
   "window_display": false
  }
 },
 "nbformat": 4,
 "nbformat_minor": 5
}
